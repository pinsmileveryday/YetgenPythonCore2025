{
 "cells": [
  {
   "cell_type": "markdown",
   "metadata": {
    "id": "-My6RWLrhXIq"
   },
   "source": [
    "# Problem 1\n",
    "Sözlükleri kullanarak bir telefon rehberi yazın. Bu rehberde kullanıcıya kimin telefonunu görüntülemek istediğini sorun ve kullanıcının girdiği isme göre o kişinin telefon numarasını yazdırın. Proje sonunda elde edeceğiniz çıktı  şuna benzer olmalı:\n",
    "\n",
    "\n",
    "Lütfen numarasını öğrenmek istediğiniz kişinin adını girin: Ahmet\n",
    "\n",
    "Ahmet isimli kişinin numarası şu şekildedir: 0532 678 13 19"
   ]
  },
  {
   "cell_type": "code",
   "execution_count": null,
   "metadata": {
    "id": "LHIQEhchhXIu"
   },
   "outputs": [],
   "source": [
    "rehber = {\n",
    "    \"Ahmet\": \"0532 678 13 19\",\n",
    "    \"Mehmet\": \"0543 123 45 67\",\n",
    "    \"Ayşe\": \"0555 987 55 44\",\n",
    "    \"Fatma\": \"0502 222 22 22\"\n",
    "}\n",
    "\n",
    "# Key \"Ahmet\" => Value => \"Telefon numarası\" #\n",
    " \n",
    "isim = input(\"Lütfen numarasını öğrenmek istediğiniz kişinin adını girin: \")\n",
    "\n",
    "if isim in rehber:\n",
    "    print(f\"{isim} isimli kişinin numarası şudur: {rehber[isim]}\")\n",
    "else:\n",
    "    print(f\"{isim} isimli kişi rehberinizde bulunmamaktadır.\")\n"
   ]
  },
  {
   "cell_type": "markdown",
   "metadata": {
    "id": "rlgfjEi7hXIv"
   },
   "source": [
    "# Problem 2\n",
    "Sözlükleri kullanarak bir şirket çalışanları indeksi oluşturun. Bu isim indeksinde kişilerin isimleri key, kişilerin  memleket, yaş ve görev bilgileri value olmalıdır. Burada kullanacağımız value değerleri liste olmalıdır.\n",
    "\n",
    "\n",
    "Daha sonra bir isim sorgulama ekranı gibi kullanıcıya kimin bilgilerini görüntülemek istediğini \n",
    "sorun ve sorgulanan kişinin ekranda gösterilmesini sağlayın. Proje sonunda elde edeceğiniz çıktı şu şekilde olmalı:\n",
    "\n",
    "\n",
    "Lütfen bilgilerini görüntülemek istediğiniz çalışanın ismini girin: Mehmet Yağız\n",
    "\n",
    "Mehmet Yağız= Memleket: Adana Yaş: 40 Görev: Direktör"
   ]
  },
  {
   "cell_type": "code",
   "execution_count": null,
   "metadata": {
    "id": "O09zrrs0hXIv"
   },
   "outputs": [],
   "source": [
    "# 2.Problemin Çözümünü Buraya Yazınız\n",
    "calisanlar = {\n",
    "    \"Mehmet Yağız\": [\"Adana\", 40, \"Direktör\"],\n",
    "    \"Ayşe Yılmaz\": [\"İzmir\", 36, \"Hukuk Danışmanı\"],\n",
    "    \"Kenan Kaya\": [\"Ankara\", 33, \"Veri Analisti\"],\n",
    "    \"Zeynep Gündoğdu\": [\"Sinop\", 28, \"Yazılım Geliştirici\"]\n",
    "}\n",
    "\n",
    "# Key = \"isim soyisim // value = Memleket, yaş, meslek grubu \"\n",
    "\n",
    "isim = input(\"Lütfen bilgilerini görmek istediğiniz çalışanın ismini ve soyismini giriniz: \")\n",
    "\n",
    "if isim in calisanlar:\n",
    "    bilgi = calisanlar[isim] \n",
    "    print(isim, \"= Memleket:\", bilgi[0], \"Yaş:\", bilgi[1], \"Görev:\", bilgi[2])\n",
    "else:\n",
    "    print(\"Üzgünüm, bu isim sistemde kayıtlı değil. Başka bir isim dene. \")\n"
   ]
  },
  {
   "cell_type": "markdown",
   "metadata": {
    "id": "G67ztXG-hXIw"
   },
   "source": [
    "# Problem 3\n",
    "\n",
    "3 öğrenciden oluşan bir öğrenci not sözlüğü oluşturun. Bu sözlükte öğrencilerin notları value olarak bir listede toplansın.\n",
    "\n",
    "Kullanıcıya hangi öğrencinin notlarını görmek istediğini sorun. Öğrencinin notu görüntülendiğinde program sonunda şöyle bir çıktı elde etmelisiniz:\n",
    "\n",
    "```\n",
    "Lütfen notlarını görmek istediğiniz öğrencinin adını girin: Mehmet\n",
    "\n",
    "Mehmet isimli öğrencinin      1.Sınav Notu:72\n",
    "                              2.Sınav Notu:66\n",
    "                              3.Sınav Notu:48\n",
    "Not Ortalaması: 62.0\n",
    "\n"
   ]
  },
  {
   "cell_type": "code",
   "execution_count": null,
   "metadata": {
    "id": "TXQ_fuCHhXIw"
   },
   "outputs": [],
   "source": [
    "# 3.Problemin Çözümünü Buraya Yazınız\n",
    "ogrencinin_notlari = {\n",
    "    \"Ali\": [85, 90, 78],\n",
    "    \"Mehmet\": [72, 66, 48],\n",
    "    \"Zeynep\": [95, 88, 92]\n",
    "}\n",
    "\n",
    "ogrencinin_adi = input(\"Lütfen notlarını görmek istediğiniz öğrencinin adını girin: \")\n",
    "\n",
    "if ogrencinin_adi in ogrencinin_notlari:\n",
    "    notlar = ogrencinin_notlari[ogrencinin_adi]  \n",
    "    ortalama = sum(notlar) / len(notlar)  ## len fonksiyonu bu soruda girilen sınav sayısını gösterir. \n",
    "    \n",
    "    print(f\"{ogrencinin_adi} isimli öğrencinin\")\n",
    "    print(f\"1.Sınav Notu: {notlar[0]}\")\n",
    "    print(f\"2.Sınav Notu: {notlar[1]}\")\n",
    "    print(f\"3.Sınav Notu: {notlar[2]}\")\n",
    "    print(f\"Not Ortalaması: {ortalama:}\")\n",
    "else:\n",
    "    print(\"Bu isimde bir öğrenci sistemde kayıtlı değil.\")\n",
    "\n"
   ]
  },
  {
   "cell_type": "markdown",
   "metadata": {
    "id": "oel6A5WFhXIw"
   },
   "source": [
    "# Problem 4"
   ]
  },
  {
   "cell_type": "code",
   "execution_count": 1,
   "metadata": {
    "id": "jVRdspCrhXIx"
   },
   "outputs": [
    {
     "name": "stdout",
     "output_type": "stream",
     "text": [
      "Listenin eleman sayısı: 4\n",
      "Listenin ilk elemanı: Bmw\n",
      "Listenin son elemanı: Mazda\n",
      "Güncel liste: ['Bmw', 'Mercedes', 'Opel', 'Toyota']\n",
      "Listenin -2. indeksindeki değer: Opel\n",
      "Listenin ilk 3 elemanı: ['Bmw', 'Mercedes', 'Opel']\n",
      "Güncel liste: ['Bmw', 'Mercedes', 'Toyota', 'Renault']\n",
      "Güncel liste: ['Bmw', 'Mercedes', 'Toyota', 'Renault', 'Audi', 'Nissan']\n",
      "Son eleman silindi, yeni liste: ['Bmw', 'Mercedes', 'Toyota', 'Renault', 'Audi']\n",
      "Liste ters sıralandı: ['Audi', 'Renault', 'Toyota', 'Mercedes', 'Bmw']\n",
      "['Yiğit Bilgi', 2010, (70, 60, 70)]\n",
      "['Sena Turan', 1999, (80, 80, 70)]\n",
      "['Ahmet Turan', 1998, (80, 70, 90)]\n",
      "Cenk eklendi: ['Ali', 'Yağmur', 'Hakan', 'Deniz', 'Cenk']\n",
      "Sena başa eklendi: ['Sena', 'Ali', 'Yağmur', 'Hakan', 'Deniz', 'Cenk']\n",
      "Deniz silindi: ['Sena', 'Ali', 'Yağmur', 'Hakan', 'Cenk']\n",
      "Ali listenin bir elemanı mı? True\n",
      "Liste ters çevrildi: ['Cenk', 'Hakan', 'Yağmur', 'Ali', 'Sena']\n",
      "Alfabetik sıralama: ['Ali', 'Cenk', 'Hakan', 'Sena', 'Yağmur']\n",
      "Yıllar sıralandı: [1987, 1998, 1998, 2000]\n",
      "Listeye çevrildi: ['Chevrolet', 'Dacia']\n",
      "1998 yılı kaç kez var: 2\n",
      "Years listesi tamamen temizlendi: []\n",
      "Kullanıcının girdiği markalar: ['bmw', 'opel', 'mazda']\n"
     ]
    }
   ],
   "source": [
    "# 1- \"Bmw, Mercedes, Opel, Mazda\" elemanlarına sahip bir liste oluşturunuz.\n",
    "cars = [\"Bmw\", \"Mercedes\", \"Opel\", \"Mazda\"]\n",
    "\n",
    "# 2- Liste Kaç elemanlıdır?\n",
    "print(\"Listenin eleman sayısı:\", len(cars))\n",
    "\n",
    "# 3- Listenin ilk ve son elemanı nedir?\n",
    "print(\"Listenin ilk elemanı:\", cars[0])\n",
    "print(\"Listenin son elemanı:\", cars[-1])\n",
    "\n",
    "# 4- Mazda değerini Toyota ile değiştirin.\n",
    "cars[-1] = \"Toyota\"\n",
    "print(\"Güncel liste:\", cars)\n",
    "\n",
    "# 5- Listenin -2 indeksindeki değer nedir?\n",
    "print(\"Listenin -2. indeksindeki değer:\", cars[-2])\n",
    "\n",
    "# 6- Listenin ilk 3 elemanını alın.\n",
    "print(\"Listenin ilk 3 elemanı:\", cars[:3])\n",
    "\n",
    "# 7- Listenin son 2 elemanı yerine \"Toyota\" ve \"Renault\" değerlerini ekleyin.\n",
    "cars[-2:] = [\"Toyota\", \"Renault\"]\n",
    "print(\"Güncel liste:\", cars)\n",
    "\n",
    "# 8- Listenin üzerine \"Audi\" ve \"Nissan\" değerlerini ekleyin.\n",
    "cars.extend([\"Audi\", \"Nissan\"])\n",
    "print(\"Güncel liste:\", cars)\n",
    "\n",
    "# 9- Listenin son elemanını silin.\n",
    "cars.pop()\n",
    "print(\"Son eleman silindi, yeni liste:\", cars)\n",
    "\n",
    "# 10- Liste elemanlarını tersten yazdırınız.\n",
    "print(\"Liste ters sıralandı:\", cars[::-1])\n",
    "\n",
    "# 11- Aşağıdaki verileri bir liste içinde saklayınız.\n",
    "students = [\n",
    "    [\"Yiğit Bilgi\", 2010, (70, 60, 70)],\n",
    "    [\"Sena Turan\", 1999, (80, 80, 70)],\n",
    "    [\"Ahmet Turan\", 1998, (80, 70, 90)]\n",
    "]\n",
    "\n",
    "# 12- Liste elemanlarını ekrana yazdırınız.\n",
    "for student in students:\n",
    "    print(student)\n",
    "\n",
    "# --------------------\n",
    "\n",
    "names = ['Ali', 'Yağmur', 'Hakan', 'Deniz']\n",
    "years = [1998, 2000, 1998, 1987]\n",
    "\n",
    "# 13- \"Cenk\" ismini listenin sonuna ekleyiniz.\n",
    "names.append(\"Cenk\")\n",
    "print(\"Cenk eklendi:\", names)\n",
    "\n",
    "# 14- \"Sena\" değerini listenin başına ekleyiniz.\n",
    "names.insert(0, \"Sena\")\n",
    "print(\"Sena başa eklendi:\", names)\n",
    "\n",
    "# 15- \"Deniz\" ismini listeden siliniz.\n",
    "names.remove(\"Deniz\")\n",
    "print(\"Deniz silindi:\", names)\n",
    "\n",
    "# 16- \"Ali\" listenin bir elemanı mıdır?\n",
    "print(\"Ali listenin bir elemanı mı?\", \"Ali\" in names)\n",
    "\n",
    "# 17- Liste elemanlarını ters çevirin.\n",
    "names.reverse()\n",
    "print(\"Liste ters çevrildi:\", names)\n",
    "\n",
    "# 18- Liste elemanlarını alfabetik olarak sıralayınız.\n",
    "names.sort()\n",
    "print(\"Alfabetik sıralama:\", names)\n",
    "\n",
    "# 19- years listesini rakamsal büyüklüğe göre sıralayınız.\n",
    "years.sort()\n",
    "print(\"Yıllar sıralandı:\", years)\n",
    "\n",
    "# 20- str = \"Chevrolet,Dacia\" karakter dizisini listeye çeviriniz.\n",
    "car_brands = \"Chevrolet,Dacia\".split(\",\")\n",
    "print(\"Listeye çevrildi:\", car_brands)\n",
    "\n",
    "# 21- years dizisinde kaç tane 1998 değeri vardır?\n",
    "print(\"1998 yılı kaç kez var:\", years.count(1998))\n",
    "\n",
    "# 22- years dizisinin tüm elemanlarını siliniz.\n",
    "years.clear()\n",
    "print(\"Years listesi tamamen temizlendi:\", years)\n",
    "\n",
    "# 23- Kullanıcıdan alacağınız 3 tane marka bilgisini bir listede saklayınız.\n",
    "user_brands = []\n",
    "for a in range(3):\n",
    "    brand = input(f\"{a+1}. Marka: \")\n",
    "    user_brands.append(brand)\n",
    "\n",
    "print(\"Kullanıcının girdiği markalar:\", user_brands)\n"
   ]
  }
 ],
 "metadata": {
  "colab": {
   "provenance": []
  },
  "kernelspec": {
   "display_name": "Python 3",
   "language": "python",
   "name": "python3"
  },
  "language_info": {
   "codemirror_mode": {
    "name": "ipython",
    "version": 3
   },
   "file_extension": ".py",
   "mimetype": "text/x-python",
   "name": "python",
   "nbconvert_exporter": "python",
   "pygments_lexer": "ipython3",
   "version": "3.13.2"
  },
  "orig_nbformat": 4
 },
 "nbformat": 4,
 "nbformat_minor": 0
}
