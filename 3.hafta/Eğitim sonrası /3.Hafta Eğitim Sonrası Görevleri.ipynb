{
 "cells": [
  {
   "cell_type": "markdown",
   "metadata": {
    "id": "iynMkzK2ozgo"
   },
   "source": [
    "# Problem 1\n",
    "Kullanıcıdan bir sayı alınız. Sayı 0'dan büyükse pozitif , 0'dan küçükse negatif sıfıra eşitse sıfır yazdırınız."
   ]
  },
  {
   "cell_type": "code",
   "execution_count": null,
   "metadata": {
    "id": "Y5eMYyiOozgw"
   },
   "outputs": [],
   "source": [
    "sayi = float(input(\"Lütfen bir sayı giriniz: \"))\n",
    "\n",
    "if sayi > 0: \n",
    "    print(\"Girdiğiniz sayı pozitiftir.\")\n",
    "elif sayi < 0:\n",
    "    print(\"Girdiğiniz sayı negatiftir.\") \n",
    "else:\n",
    "    print(\"Girdiğiniz sayı sıfıra eşittir.\")\n"
   ]
  },
  {
   "cell_type": "markdown",
   "metadata": {
    "id": "gUrFd7pgozgz"
   },
   "source": [
    " # Problem 2\n",
    "Kullanıcıdan aldığınız bir sayının mükemmel olup olmadığını bulmaya çalışın.\n",
    "Bir sayının kendi hariç bölenlerinin toplamı kendine eşitse bu sayıya \"mükemmel sayı\" denir. Örnek olarak, 6 mükemmel bir sayıdır. (1 + 2 + 3 = 6)\n"
   ]
  },
  {
   "cell_type": "code",
   "execution_count": 11,
   "metadata": {
    "id": "Oc8lAzLaozg0"
   },
   "outputs": [
    {
     "name": "stdout",
     "output_type": "stream",
     "text": [
      "0 mükemmel bir sayıdır.\n"
     ]
    }
   ],
   "source": [
    "sayi = int(input(\"Bir sayı girin: \"))\n",
    "\n",
    "toplam = 0  \n",
    "\n",
    "for i in range(1, sayi):\n",
    "   if sayi % i == 0:  \n",
    "        toplam += i  \n",
    "\n",
    "if toplam == sayi:\n",
    "  print(f\"{sayi} mükemmel bir sayıdır.\")\n",
    "elif toplam > sayi:\n",
    "   print(f\"{sayi} mükemmel bir sayı değildir. (Bölenleri toplamı {toplam}, yani fazla.)\")\n",
    "else:\n",
    "  print(f\"{sayi} mükemmel bir sayı değildir. (Bölenleri toplamı {toplam}, yani eksik.)\") ##"
   ]
  },
  {
   "cell_type": "markdown",
   "metadata": {
    "id": "wU080UMcozg1"
   },
   "source": [
    " # Problem 3\n",
    "Kullanıcıdan aldığınız bir sayının \"Armstrong\" sayısı olup olmadığını bulmaya çalışın.\n",
    "Örnek olarak, Bir sayı eğer 4 basamaklı ise ve oluşturan rakamlardan herbirinin 4. kuvvetinin toplamı( 3 basamaklı sayılar için 3.kuvveti ) o sayıya eşitse bu sayıya \"Armstrong\" sayısı denir.\n",
    "\n",
    "Örnek olarak : 1634 = 1^4 + 6^4 + 3^4 + 4^4"
   ]
  },
  {
   "cell_type": "code",
   "execution_count": null,
   "metadata": {
    "id": "NF529iKaozg3"
   },
   "outputs": [],
   "source": [
    "sayi = int(input(\"Bir sayı girin: \"))\n",
    "\n",
    "basamak_sayisi = len(str(sayi))\n",
    "\n",
    "toplam = sum(int(rakam) ** basamak_sayisi for rakam in str(sayi))\n",
    "\n",
    "if toplam == sayi:\n",
    "    print(f\"{sayi} bir Armstrong sayısıdır.\")\n",
    "else:\n",
    "    print(f\"{sayi} Armstrong sayısı değildir.\")\n"
   ]
  },
  {
   "cell_type": "markdown",
   "metadata": {
    "id": "4hSmU3Yoozg4"
   },
   "source": [
    "# Problem 4\n",
    "YetGen Core Python mezunu bir öğretmenimiz öğrencilerine 1'den 10'a kadar sayılarla çarpım tablosunu öğretirken Python'dan destek almak istiyor. Bu konuda öğretmenimize yardımcı olmak ister misin?\n",
    "\n",
    "İpucu: İç içe 2 tane for döngüsü kullanın. \n",
    "\n",
    "Aynı zamanda sayıları range() fonksiyonunu kullanarak elde edin."
   ]
  },
  {
   "cell_type": "code",
   "execution_count": null,
   "metadata": {
    "id": "WsDvmcXgozg5"
   },
   "outputs": [],
   "source": [
    "for a in range(1, 11):\n",
    "    for b in range(1, 11):\n",
    "        carpma_islemi = a * b\n",
    "        print(f\"Çarpım sonucu {a} x {b} = {carpma_islemi} çıkmıştır. \") \n",
    "\n",
    "    "
   ]
  },
  {
   "cell_type": "markdown",
   "metadata": {
    "id": "jJpAhNPtozg7"
   },
   "source": [
    "# Problem 5\n",
    "Markete giren bir YetGen'li sıra beklememek için hızlı kasaya gider. Hızlı kasanın çalışma mantığı şu şekildedir:\n",
    "- Kullanıcının aldığı her ürünün fiyatını tek tek girmesi gerekir.\n",
    "- Kullanıcı kasadan çıkmak isterse q tuşuna basmalıdır.\n",
    "- Kasa girilen fiyatları son fiyat isimli değişkene ekler.\n",
    "- Değişkeni ekrana bastırır.\n",
    "\n",
    "İpucu: while döngüsünü sonsuz koşulla başlatın ve kullanıcı q'ya basarsa döngüyü break ile sonlandırın."
   ]
  },
  {
   "cell_type": "code",
   "execution_count": null,
   "metadata": {
    "id": "Tr4QbmESozg9"
   },
   "outputs": [],
   "source": [
    "last_price = 0\n",
    "\n",
    "while True:\n",
    "    price_input = input(\"Lütfen ürünün fiyatını giriniz. (Eğer sistemden çıkış yapmak isterseniz 'q' tuşuna basın): \")\n",
    "    \n",
    "    if price_input == \"q\":\n",
    "        break\n",
    "    \n",
    "    price = float(price_input)\n",
    "    \n",
    "    last_price += price\n",
    "    \n",
    "    print(\"Güncel tutar: \", last_price)\n",
    "\n",
    "print(\"Ödemeniz tamamlandı. Ödemeniz gereken tutar: \", last_price)\n"
   ]
  },
  {
   "cell_type": "markdown",
   "metadata": {
    "id": "lqJyFt_Eozg-"
   },
   "source": [
    "# Problem 6\n",
    "1'den 100'e kadar olan sayılardan sadece 3'e bölünen sayıları ekrana bastırın. Bu işlemi continue ile yapmaya çalışın."
   ]
  },
  {
   "cell_type": "code",
   "execution_count": null,
   "metadata": {
    "id": "0ZVgZqAQozg_"
   },
   "outputs": [],
   "source": [
    "for sayi in range(1, 101):\n",
    "    if sayi % 3 != 0:\n",
    "        continue  \n",
    "    \n",
    "    print(sayi)\n"
   ]
  },
  {
   "cell_type": "markdown",
   "metadata": {
    "id": "eA2r49EjozhA"
   },
   "source": [
    "# Problem 7\n",
    "Bir YetGen Core Python mezunu MEF Üniversitesi'nde Bilgisayar Bilimleri Doktora programının mülakatına girmeye hak kazanıyor. Mülakata hazırlanırken internetten soru araştırıyor. Karşısına çıkan ünlü FizzBuzz sorusuna benzer YetGen sorusunda kendisini yeterince hazır hissetmiyor. Bu soruyu çözmesine destek olmak ister misin?\n",
    "\n",
    "Soru aşağıdaki gibidir:\n",
    "\n",
    "1’den 100’e kadar sayıları yazdırıyoruz. Ancak eğer sayı 3’e bölünüyor ise Yet, sayı 5’e bölünüyorsa Gen, hem 3’e hem 5’e bölünüyorsa YetGen yazdırıyoruz."
   ]
  },
  {
   "cell_type": "code",
   "execution_count": null,
   "metadata": {
    "id": "Q3H7p6vnozhB"
   },
   "outputs": [],
   "source": [
    "for sayi in range(1, 101):\n",
    "    if sayi % 3 == 0 and sayi % 5 == 0:\n",
    "        print(\"YetGen\")\n",
    "    elif sayi % 3 == 0:\n",
    "        print(\"Yet\")\n",
    "    elif sayi % 5 == 0:\n",
    "        print(\"Gen\")\n",
    "    else:\n",
    "        print(sayi)"
   ]
  }
 ],
 "metadata": {
  "colab": {
   "provenance": []
  },
  "kernelspec": {
   "display_name": "Python 3",
   "language": "python",
   "name": "python3"
  },
  "language_info": {
   "codemirror_mode": {
    "name": "ipython",
    "version": 3
   },
   "file_extension": ".py",
   "mimetype": "text/x-python",
   "name": "python",
   "nbconvert_exporter": "python",
   "pygments_lexer": "ipython3",
   "version": "3.13.2"
  },
  "orig_nbformat": 4
 },
 "nbformat": 4,
 "nbformat_minor": 0
}
