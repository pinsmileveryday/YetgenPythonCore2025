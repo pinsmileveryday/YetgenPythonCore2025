{
  "cells": [
    {
      "cell_type": "markdown",
      "metadata": {
        "id": "tsD4YVAe_Te2"
      },
      "source": [
        "# Problem 1\n",
        "Bir sayının 7'ye bölünebilir olup olmadığını kontrol etmek \n",
        "için bir program yazın.\n",
        "\n",
        "İpucu: Mod operatörünü (%) kullanabilirsiniz."
      ]
    },
    {
      "cell_type": "code",
      "execution_count": null,
      "metadata": {
        "id": "NGjvNwKx_Te7"
      },
      "outputs": [],
      "source": [
        "sayi = int(input(\" Bir sayı giriniz: \"))\n",
        "if sayi % 7 == 0: \n",
        "    print(f\"{sayi} sayısı 7'ye tam bölünür.\")\n",
        "else: \n",
        "    print(f\"{sayi} sayısı 7'ye tam bölünmez.\")"
      ]
    },
    {
      "cell_type": "markdown",
      "metadata": {
        "id": "Kg3qiBAI_Te8"
      },
      "source": [
        "# Problem 2\n",
        "Kullanıcıdan vize ve final notu isteyin. Girilen vize notunun %40’ı ve \n",
        "girilen finalnotunun ise %60’ı alınarak yıl sonu not ortalaması hesaplanacaktır. \n",
        "\n",
        "Bu not ortalaması eğer 85 ve üzeri ise AA, \n",
        "\n",
        "75 ve 85 arasında ise BA, \n",
        "\n",
        "70 ve 75 arasında ise BB, \n",
        "\n",
        "65 ve 70 arasında ise CB,\n",
        "\n",
        "60 ve 65 arasında ise CC,\n",
        "\n",
        "55 ve 60 arasında ise DC,\n",
        "\n",
        "50 ve 55 arasında ise DD olarak hesaplanacaktır. \n",
        "\n",
        "Bu öğrencinin yıl sonu toplam notu 50’nin altında ise FF ile dersten kalacaktır. \n",
        "\n",
        "Ayrıca öğrencinin final notu 50’nin altında ise direkt FF ile kalacaktır."
      ]
    },
    {
      "cell_type": "code",
      "execution_count": null,
      "metadata": {
        "id": "MXTtCxI1_Te8"
      },
      "outputs": [],
      "source": [
        "vize = float(input(\"Lütfen vize notunu giriniz: \"))\n",
        "final = float(input(\"Lütfen final notunu giriniz: \"))\n",
        "\n",
        "if final < 50:\n",
        "    harf_notu = \"FF\"\n",
        "else:\n",
        "    ortalama_not = (vize * 0.4) + (final * 0.6)  #Yıl sonu ortalamasının hesaplanması için kullanılacak olan formül#\n",
        "\n",
        "    if ortalama_not >= 85:\n",
        "        harf_notu = \"AA\"\n",
        "    elif ortalama_not >= 75:\n",
        "        harf_notu = \"BA\"\n",
        "    elif ortalama_not >= 70:\n",
        "        harf_notu = \"BB\"\n",
        "    elif ortalama_not >= 65:\n",
        "        harf_notu = \"CB\"\n",
        "    elif ortalama_not >= 60:\n",
        "        harf_notu = \"CC\"\n",
        "    elif ortalama_not >= 55:\n",
        "        harf_notu = \"DC\"\n",
        "    elif ortalama_not >= 50:\n",
        "        harf_notu = \"DD\"\n",
        "    else:\n",
        "        harf_notu = \"FF\"\n",
        "\n",
        "print(f\"Yıl sonu not ortalamanız: {ortalama_not:}\")\n",
        "print(f\"Harf notunuz: {harf_notu}\")\n"
      ]
    },
    {
      "cell_type": "markdown",
      "metadata": {
        "id": "tAoRYCTC_Te8"
      },
      "source": [
        "# Problem 3\n",
        "İki YetGenli Zirve'de karşılaşıyorlar. Birbirlerini tanımak için sorular soruyorlar. Birbirlerine yaşlarını soruyorlar. Akıllarına bir Python programı yazıp, yaşlarını ve isimlerini giriyorlar. Büyük olanın yaşını ekrana yazdıran programı yazıyorlar. Sende bu iki YetGenli'ye destek olmak ister misin?\n",
        "\n",
        "```\n",
        "Birinci YetGenlinin ismi: Ahmet\n",
        "Birinci YetGenlinin yaşı : 20\n",
        "İkinci YetGenlinin ismi: Mehmet\n",
        "İkinci YetGenlinin yaşı : 25\n",
        "Mehmet'in yaşı daha büyük ve yaşı 25'tir.\n",
        "```"
      ]
    },
    {
      "cell_type": "code",
      "execution_count": null,
      "metadata": {
        "id": "bPjE8W0i_Te8"
      },
      "outputs": [],
      "source": [
        "isim_1 = input(\"Lütfen birinci YetGenlinin ismini giriniz: \")\n",
        "yas_1 = int(input(f\"Lütfen {isim_1}'in yaşını giriniz: \"))\n",
        "\n",
        "isim_2 = input(\"Lütfen ikinci YetGenlinin ismini giriniz: \")\n",
        "yas_2 = int(input(f\"Lütfen {isim_2}'in yaşını giriniz: \"))\n",
        "\n",
        "if yas_1 > yas_2:\n",
        "    print(f\"{isim_1}'in yaşı daha büyüktür ve {isim_1}, {yas_1} yaşındadır.\")\n",
        "elif yas_2 > yas_1:\n",
        "    print(f\"{isim_2}'in yaşı daha büyüktür ve {isim_2}, {yas_2} yaşındadır.\")\n",
        "else:\n",
        "    print(f\"{isim_1} ve {isim_2} aynı yaştadır. Yani ikisi de {yas_1} yaşındalar.\")\n"
      ]
    },
    {
      "cell_type": "markdown",
      "metadata": {
        "id": "zBVv8Tyg_Te9"
      },
      "source": [
        "# Problem 4\n",
        "Pandemi döneminde AVM'lerde ateş ölçümü yapılıyor. AVM'ye giren kişinin ateş ölçümü 37.5 derecenin altında ise girişe izin veriliyor. 37.5 derecenin üstünde ise girişe izin verilmiyor. AVM'ye girişe izin verilip verilmediğini ekrana yazdıran bir program yazın.\n",
        "\n",
        "Program sonunda şöyle bir çıktı elde etmelisiniz:\n",
        "\n",
        "```\n",
        "Ateşiniz 37.5 derece. AVM'ye girebilirsin! Maske takmayı unutma!\n",
        "Ateşiniz 37.6 derece. AVM'ye giremezsin! Hemen evine dön!\n",
        "```"
      ]
    },
    {
      "cell_type": "code",
      "execution_count": null,
      "metadata": {
        "id": "TSAXs8et_Te9"
      },
      "outputs": [],
      "source": [
        "ates = float(input(\"Lütfen ateşinizin derecesini giriniz (°C): \"))\n",
        "\n",
        "if ates <= 37.5:\n",
        "    print(f\"Şu an ateşiniz {ates} derece. AVM'ye girebilirsin! Maske takmayı unutma!\")\n",
        "else:\n",
        "    print(f\"Şu an ateşiniz {ates} derece. AVM'ye giremezsin! Hemen evine dön!\")\n"
      ]
    },
    {
      "cell_type": "markdown",
      "metadata": {
        "id": "6AEkZrDt_Te9"
      },
      "source": [
        "# Problem 5\n",
        "YetGen bir spor kulübüyle sponsorluk anlaşması yapıyor. Kulüp, sponsorluk anlaşmasına göre her YetGen liderinin beden kitle indeksini hesaplamak istiyor. Spor kulübü, beden kitle indeksini hesaplamak için YetGen Jump Python liderlerinden Berkcan ve Ahmet'i arıyor. Berkcan ve Ahmet, kulübe yardımcı olmak için bir Python programı yazıyorlar. Sende bu iki YetGen liderine destek olmak ister misin?\n",
        "\n",
        "Kullanıcıdan alınan boy ve kilo değerlerine göre beden kitle indeksini hesaplayın ve şu kurallara göre ekrana şu yazıları yazdırın.\n",
        "\n",
        "\n",
        "Beden Kitle İndeksi, kişinin ağırlığının (kg olarak) boyunun karesine (m olarak) bölünmesiyle hesaplanır.\n",
        "\n",
        "\n",
        "```\n",
        " BKİ 18.5'un altındaysa -------> Zayıf\n",
        "\n",
        " BKİ 18.5 ile 25 arasındaysa ------> Normal\n",
        "\n",
        " BKİ 25 ile 30 arasındaysa --------> Fazla Kilolu\n",
        "\n",
        " BKİ 30'un üstündeyse -------------> Obez\n",
        "```\n",
        "\n"
      ]
    },
    {
      "cell_type": "code",
      "execution_count": null,
      "metadata": {
        "id": "t-XPI_u0_Te-"
      },
      "outputs": [],
      "source": [
        "kilo = float(input(\"Lütfen kilonuzu giriniz (kg): \"))\n",
        "boy = float(input(\"Lütfen boyunuzu giriniz (m): \"))\n",
        "\n",
        "bki = kilo / (boy ** 2) #Boy - Kilo index hesaplaması#\n",
        "\n",
        "if bki < 18.5:\n",
        "    beden_durumu = \"Zayıf\"\n",
        "elif 18.5 <= bki < 25:\n",
        "    beden_durumu = \"Normal\"\n",
        "elif 25 <= bki < 30:\n",
        "    beden_durumu = \"Fazla Kilolu\"\n",
        "else:\n",
        "    beden_durumu = \"Obez\"\n",
        "\n",
        "print(f\"Beden Kitle İndeksiniz: {bki}\")\n",
        "print(f\"Beden durumunuz: {beden_durumu}\")\n"
      ]
    },
    {
      "cell_type": "markdown",
      "metadata": {
        "id": "oFsvQyaO_Te-"
      },
      "source": [
        "# Problem 6\n",
        "Kullanıcıdan isim, yaş ve eğitim bilgilerini isteyip ehliyet alabilme  durumunu kontrol ediniz. \n",
        "\n",
        "Ehliyet alma koşulu en az 18 yaşında ve eğitim durumu lise ya da üniversite olmalıdır. "
      ]
    },
    {
      "cell_type": "code",
      "execution_count": null,
      "metadata": {
        "id": "Tu2mcgco_Te-"
      },
      "outputs": [],
      "source": [
        "isim = input(\"Lütfen adınızı giriniz: \")\n",
        "yas = int(input(\"Lütfen yaşınızı giriniz: \"))\n",
        "egitim = input(\"Lütfen eğitim durumunuzu giriniz (İlkokul/Ortaokul/Lise/Üniversite): \")\n",
        "\n",
        "if yas >= 18 and (egitim == \"lise\"):\n",
        "    print(f\"Tebrikler {isim}, ehliyet alabilirsin!\")\n",
        "elif yas >= 18 and (egitim == \"üniversite\"):\n",
        "    print(f\"Tebrikler {isim}, ehliyet alabilirsin!\")\n",
        "else:\n",
        "    print(f\"Üzgünüm {isim}, maalesef ehliyet alamazsın.\")\n"
      ]
    },
    {
      "cell_type": "markdown",
      "metadata": {
        "id": "eUkxVSAE_Te_"
      },
      "source": [
        "# Problem 7\n",
        "Bir yılın artık yıl olup olmadığını kontrol etmek için bir program yazın. \n",
        "Artık yıl kuralı:\n",
        "\n",
        "a) Eğer yılın son iki basamağı (00) ile bitmiyor ve yalnızca 4'e tam bölünüyorsa artık yıldır. Ya da, \n",
        "\n",
        "b) Eğer yıl 400'e tam bölünüyorsa artık yıldır.\n",
        "\n",
        "**Örneğin**\n",
        "```\n",
        "2017 artık yıl değildir.\n",
        "1900 artık yıl değildir\n",
        "2012 artık yıldır.\n",
        "2000 artık yıldır.\n",
        "```"
      ]
    },
    {
      "cell_type": "code",
      "execution_count": null,
      "metadata": {
        "id": "4uWh8qUL_Te_"
      },
      "outputs": [],
      "source": [
        "print(\"Bu program artık yıl hesaplamak için programlanmıştır. \")\n",
        "yil = int(input(\"Lütfen yıl giriniz: \"))\n",
        "\n",
        "if yil % 400 == 0:\n",
        "    print(f\"Girdiğiniz {yil} bir artık yıldır.\")\n",
        "elif yil % 4 == 0 and yil % 100 != 0: \n",
        "    print(f\"Girdiğiniz {yil} bir artık yıldır.\") \n",
        "else:\n",
        "    print(f\"Girdiğiniz {yil} bir artık yıl değildir.\")\n"
      ]
    }
  ],
  "metadata": {
    "colab": {
      "provenance": []
    },
    "kernelspec": {
      "display_name": "Python 3",
      "language": "python",
      "name": "python3"
    },
    "language_info": {
      "codemirror_mode": {
        "name": "ipython",
        "version": 3
      },
      "file_extension": ".py",
      "mimetype": "text/x-python",
      "name": "python",
      "nbconvert_exporter": "python",
      "pygments_lexer": "ipython3",
      "version": "3.13.2"
    },
    "orig_nbformat": 4
  },
  "nbformat": 4,
  "nbformat_minor": 0
}
